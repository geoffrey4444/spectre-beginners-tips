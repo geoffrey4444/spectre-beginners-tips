{
 "cells": [
  {
   "cell_type": "markdown",
   "metadata": {},
   "source": [
    "This notebook plots the rest mass density for a blast wave from spectre volume data using yt. Put this notebook in the same directory as your h5 data and then run it."
   ]
  },
  {
   "cell_type": "code",
   "execution_count": null,
   "metadata": {},
   "outputs": [],
   "source": [
    "import h5py\n",
    "import numpy as np\n",
    "import glob\n",
    "import yt"
   ]
  },
  {
   "cell_type": "code",
   "execution_count": null,
   "metadata": {},
   "outputs": [],
   "source": [
    "file_prefix = 'GrMhd'\n",
    "field_to_plot = 'RestMassDensity'\n",
    "output_file_name = \"BlastWave_R7MUSCL_RestMassDensity.png\"\n",
    "\n",
    "# Shouldn't have to change anything below here except perhaps plot options"
   ]
  },
  {
   "cell_type": "code",
   "execution_count": null,
   "metadata": {},
   "outputs": [],
   "source": [
    "# Reads element data from an h5 file\n",
    "def read_element_data_from_h5(file_name):\n",
    "    file = h5py.File(file_name)\n",
    "    element_data = file.get(\"element_data.vol\")\n",
    "    return element_data\n",
    "\n",
    "# From element data, return a sorted tuple of times and time_ids\n",
    "def times_from_element_data(element_data):\n",
    "    time_ids = np.array([x for x in element_data.keys()])\n",
    "    times = np.array([element_data.get(x).attrs.get(\"observation_value\") for x in time_ids])\n",
    "    # sort times and time_ids\n",
    "    sorted_args = np.argsort(times)\n",
    "    return (times[sorted_args], time_ids[sorted_args])\n",
    "\n",
    "def grid_dict_from_grid(grid):\n",
    "    x = grid.get('InertialCoordinates_x')\n",
    "    y = grid.get('InertialCoordinates_y')\n",
    "    z = grid.get('InertialCoordinates_z')\n",
    "    grid_dict = dict(left_edge = [np.min(x), np.min(y), np.min(z)], \n",
    "                     right_edge = [np.max(x), np.max(y), np.max(z)],\n",
    "                     level = 0,\n",
    "                     dimensions = list(x.shape))\n",
    "    return grid_dict\n",
    "\n",
    "def grid_dict_from_grid_and_field(grid, field_name):\n",
    "    grid_dict = grid_dict_from_grid(grid)\n",
    "    grid_dict.update({field_name:np.array(grid.get(field_name))})\n",
    "    return grid_dict\n",
    "\n",
    "def append_to_plot_data(plot_data, element_data, time_id, field_name):\n",
    "    grid_keys = np.array([x for x in element_data.get(time_id).keys()])\n",
    "    for grid_key in grid_keys:\n",
    "        grid = element_data.get(time_id).get(grid_key)\n",
    "        plot_data.append(grid_dict_from_grid_and_field(grid, field_name))"
   ]
  },
  {
   "cell_type": "code",
   "execution_count": null,
   "metadata": {},
   "outputs": [],
   "source": [
    "plot_data = []\n",
    "\n",
    "files = [(h5py.File(filename, 'r'), filename)\n",
    "            for filename in glob.glob(file_prefix + \"*.h5\")]\n",
    "times = times_from_element_data(files[0][0].get(\"element_data.vol\"))\n",
    "\n",
    "for file in files:\n",
    "    print(file[-1])\n",
    "    element_data = file[0].get(\"element_data.vol\")\n",
    "    append_to_plot_data(plot_data, element_data, times[-1][-1], field_to_plot)\n",
    "\n",
    "plot_dimensions = plot_data[0].get(\"dimensions\")"
   ]
  },
  {
   "cell_type": "code",
   "execution_count": null,
   "metadata": {},
   "outputs": [],
   "source": [
    "ds = yt.load_amr_grids(plot_data, plot_dimensions)"
   ]
  },
  {
   "cell_type": "code",
   "execution_count": null,
   "metadata": {},
   "outputs": [],
   "source": [
    "plt = yt.SlicePlot(ds, \"z\", [\"RestMassDensity\"], True, width=12.0, center=(0,0,0))\n",
    "plt.set_cmap(\"RestMassDensity\", 'viridis')\n",
    "plt.annotate_title(\"Rest Mass Density $(t=4)$\")\n",
    "plt.set_log(\"RestMassDensity\", True)\n",
    "plt.set_zlim(\"RestMassDensity\", 1.e-4, 1.e-3)\n",
    "plt.set_xlabel('x')\n",
    "plt.set_ylabel('y')\n",
    "plt.set_colorbar_label('RestMassDensity','')\n",
    "plt.show()\n",
    "plt.save(output_file_name)"
   ]
  }
 ],
 "metadata": {
  "kernelspec": {
   "display_name": "Python 3",
   "language": "python",
   "name": "python3"
  },
  "language_info": {
   "codemirror_mode": {
    "name": "ipython",
    "version": 3
   },
   "file_extension": ".py",
   "mimetype": "text/x-python",
   "name": "python",
   "nbconvert_exporter": "python",
   "pygments_lexer": "ipython3",
   "version": "3.6.5"
  }
 },
 "nbformat": 4,
 "nbformat_minor": 2
}
